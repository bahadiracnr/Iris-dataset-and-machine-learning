{
 "cells": [
  {
   "cell_type": "code",
   "execution_count": 1,
   "id": "b0f295e4-92bc-4b0c-b02f-e42ab7e49380",
   "metadata": {},
   "outputs": [
    {
     "name": "stdout",
     "output_type": "stream",
     "text": [
      "İris Veri Kümesi Raporu:\n",
      "     sepal length  sepal width  petal length  petal width            iris\n",
      "0             5.1          3.5           1.4          0.2     Iris-setosa\n",
      "1             4.9          3.0           1.4          0.2     Iris-setosa\n",
      "2             4.7          3.2           1.3          0.2     Iris-setosa\n",
      "3             4.6          3.1           1.5          0.2     Iris-setosa\n",
      "4             5.0          3.6           1.4          0.2     Iris-setosa\n",
      "..            ...          ...           ...          ...             ...\n",
      "145           6.7          3.0           5.2          2.3  Iris-virginica\n",
      "146           6.3          2.5           5.0          1.9  Iris-virginica\n",
      "147           6.5          3.0           5.2          2.0  Iris-virginica\n",
      "148           6.2          3.4           5.4          2.3  Iris-virginica\n",
      "149           5.9          3.0           5.1          1.8  Iris-virginica\n",
      "\n",
      "[150 rows x 5 columns]\n",
      "Satır 1: Sepal Length: 5.1, Sepal Width: 3.5, Petal Length: 1.4, Petal Width: 0.2, Iris: Iris-setosa\n",
      "Satır 2: Sepal Length: 4.9, Sepal Width: 3.0, Petal Length: 1.4, Petal Width: 0.2, Iris: Iris-setosa\n",
      "Satır 3: Sepal Length: 4.7, Sepal Width: 3.2, Petal Length: 1.3, Petal Width: 0.2, Iris: Iris-setosa\n",
      "Satır 4: Sepal Length: 4.6, Sepal Width: 3.1, Petal Length: 1.5, Petal Width: 0.2, Iris: Iris-setosa\n",
      "Satır 5: Sepal Length: 5.0, Sepal Width: 3.6, Petal Length: 1.4, Petal Width: 0.2, Iris: Iris-setosa\n"
     ]
    }
   ],
   "source": [
    "import pandas as pd\n",
    "\n",
    "def raporla_iris():\n",
    "    iris_veri = pd.read_excel(\"iris.xlsx\")\n",
    "    \n",
    "    print(\"İris Veri Kümesi Raporu:\")\n",
    "    print(iris_veri)\n",
    "    \n",
    "    return iris_veri \n",
    "\n",
    "def deneme():\n",
    "    iris_data = raporla_iris()  \n",
    "    \n",
    "    for i in range(5):\n",
    "        print(f\"Satır {i + 1}: Sepal Length: {iris_data.at[i, 'sepal length']}, Sepal Width: {iris_data.at[i, 'sepal width']}, Petal Length: {iris_data.at[i, 'petal length']}, Petal Width: {iris_data.at[i, 'petal width']}, Iris: {iris_data.at[i, 'iris']}\")\n",
    "\n",
    "deneme()\n"
   ]
  },
  {
   "cell_type": "code",
   "execution_count": null,
   "id": "c695588a-9319-4132-bbba-e82794cc3007",
   "metadata": {},
   "outputs": [],
   "source": []
  }
 ],
 "metadata": {
  "kernelspec": {
   "display_name": "Python 3 (ipykernel)",
   "language": "python",
   "name": "python3"
  },
  "language_info": {
   "codemirror_mode": {
    "name": "ipython",
    "version": 3
   },
   "file_extension": ".py",
   "mimetype": "text/x-python",
   "name": "python",
   "nbconvert_exporter": "python",
   "pygments_lexer": "ipython3",
   "version": "3.11.7"
  }
 },
 "nbformat": 4,
 "nbformat_minor": 5
}
