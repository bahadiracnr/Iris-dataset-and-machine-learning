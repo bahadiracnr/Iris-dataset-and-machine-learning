{
 "cells": [
  {
   "cell_type": "code",
   "execution_count": 11,
   "id": "5e4d683d-e92a-434f-bdee-dbe63fdb8f00",
   "metadata": {},
   "outputs": [
    {
     "name": "stdout",
     "output_type": "stream",
     "text": [
      "Ad: Doruk, Soyad: Dölek, Pozisyon: Araştırmacı\n",
      "Ad: Barış, Soyad: Paçcı, Pozisyon: Sekreter\n",
      "Ad: Bahadır, Soyad: Acuner, Pozisyon: Sistem Yöneticisi\n"
     ]
    }
   ],
   "source": [
    "class Personel:\n",
    "    def __init__(self, ad, soyad, pozisyon):\n",
    "        self.ad = ad\n",
    "        self.soyad = soyad\n",
    "        self.pozisyon = pozisyon\n",
    "\n",
    "    def kimlik(self):\n",
    "        return f\"Ad: {self.ad}, Soyad: {self.soyad}, Pozisyon: {self.pozisyon}\"\n",
    "\n",
    "class Araştırmacı(Personel):\n",
    "    def __init__(self, ad, soyad):\n",
    "        super().__init__(ad, soyad, \"Araştırmacı\")\n",
    "\n",
    "class Sekreter(Personel):\n",
    "    def __init__(self, ad, soyad):\n",
    "        super().__init__(ad, soyad, \"Sekreter\")\n",
    "\n",
    "class SistemYoneticisi(Personel):\n",
    "    def __init__(self, ad, soyad):\n",
    "        super().__init__(ad, soyad, \"Sistem Yöneticisi\")\n",
    "\n",
    "def merhaba():\n",
    "    arastirmaci = Araştırmacı(\"Doruk\", \"Dölek\")\n",
    "    sekreter = Sekreter(\"Barış\", \"Paçcı\")\n",
    "    sistem_yoneticisi = SistemYoneticisi(\"Bahadır\", \"Acuner\")\n",
    "\n",
    "    print(arastirmaci.kimlik())\n",
    "    print(sekreter.kimlik())\n",
    "    print(sistem_yoneticisi.kimlik())\n",
    "\n",
    "merhaba()"
   ]
  },
  {
   "cell_type": "code",
   "execution_count": null,
   "id": "1eddc5f9-350e-4ed4-854e-49e125713ec0",
   "metadata": {},
   "outputs": [],
   "source": []
  }
 ],
 "metadata": {
  "kernelspec": {
   "display_name": "Python 3 (ipykernel)",
   "language": "python",
   "name": "python3"
  },
  "language_info": {
   "codemirror_mode": {
    "name": "ipython",
    "version": 3
   },
   "file_extension": ".py",
   "mimetype": "text/x-python",
   "name": "python",
   "nbconvert_exporter": "python",
   "pygments_lexer": "ipython3",
   "version": "3.11.7"
  }
 },
 "nbformat": 4,
 "nbformat_minor": 5
}
