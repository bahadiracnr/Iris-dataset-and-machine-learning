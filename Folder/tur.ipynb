{
 "cells": [
  {
   "cell_type": "code",
   "execution_count": 6,
   "id": "1a3825d2-6e79-4bd6-935e-5e014ae63f86",
   "metadata": {},
   "outputs": [
    {
     "name": "stdin",
     "output_type": "stream",
     "text": [
      "çiçek türü gir:  a\n"
     ]
    },
    {
     "name": "stdout",
     "output_type": "stream",
     "text": [
      "a türü bulunamadı.\n"
     ]
    }
   ],
   "source": [
    "import pandas as pd\n",
    "\n",
    "def ara(iris, turu):\n",
    "    bulunanlar = iris[iris['iris'] == turu]\n",
    "    \n",
    "    if bulunanlar.empty:\n",
    "        print(f\"{turu} türü bulunamadı.\")\n",
    "    else:\n",
    "        print(f\"{turu} Türü Raporu:\")\n",
    "        print(bulunanlar)\n",
    "\n",
    "\n",
    "def baris():\n",
    "    deneme=True\n",
    "    if deneme:\n",
    "        iris = pd.read_excel(\"iris.xlsx\")\n",
    "        turu = input(\"çiçek türü gir: \")\n",
    "        ara(iris, turu)\n",
    "\n",
    "baris()\n"
   ]
  },
  {
   "cell_type": "code",
   "execution_count": null,
   "id": "55b48f20-ba51-4416-ae25-0beac58e22d9",
   "metadata": {},
   "outputs": [],
   "source": []
  }
 ],
 "metadata": {
  "kernelspec": {
   "display_name": "Python 3 (ipykernel)",
   "language": "python",
   "name": "python3"
  },
  "language_info": {
   "codemirror_mode": {
    "name": "ipython",
    "version": 3
   },
   "file_extension": ".py",
   "mimetype": "text/x-python",
   "name": "python",
   "nbconvert_exporter": "python",
   "pygments_lexer": "ipython3",
   "version": "3.11.7"
  }
 },
 "nbformat": 4,
 "nbformat_minor": 5
}
