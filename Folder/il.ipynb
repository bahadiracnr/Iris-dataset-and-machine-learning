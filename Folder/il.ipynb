{
 "cells": [
  {
   "cell_type": "code",
   "execution_count": 25,
   "id": "ddab9401-83e3-4d3d-8d2f-188d02b8bce2",
   "metadata": {},
   "outputs": [
    {
     "name": "stdin",
     "output_type": "stream",
     "text": [
      "Lütfen aranacak il/ilçe(ler)i virgülle ayırarak girin:  ANKARA\n"
     ]
    },
    {
     "name": "stdout",
     "output_type": "stream",
     "text": [
      "Aranan İl/İlçe Raporu:\n",
      "    Yer Kodu             İlçe      İl   Bölge Adı\n",
      "8          9           AKYURT  ANKARA  İç Anadolu\n",
      "9         10         ALTINDAĞ  ANKARA  İç Anadolu\n",
      "10        11             AYAŞ  ANKARA  İç Anadolu\n",
      "11        12             BALA  ANKARA  İç Anadolu\n",
      "12        13        BEYPAZARI  ANKARA  İç Anadolu\n",
      "13        14        ÇAMLIDERE  ANKARA  İç Anadolu\n",
      "14        15          ÇANKAYA  ANKARA  İç Anadolu\n",
      "15        16            ÇUBUK  ANKARA  İç Anadolu\n",
      "16        17          ELMADAĞ  ANKARA  İç Anadolu\n",
      "17        18        ETİMESGUT  ANKARA  İç Anadolu\n",
      "18        19            EVREN  ANKARA  İç Anadolu\n",
      "19        20          GÖLBAŞI  ANKARA  İç Anadolu\n",
      "20        21            GÜDÜL  ANKARA  İç Anadolu\n",
      "21        22          HAYMANA  ANKARA  İç Anadolu\n",
      "22        23    KAHRAMANKAZAN  ANKARA  İç Anadolu\n",
      "23        24          KALECİK  ANKARA  İç Anadolu\n",
      "24        25         KEÇİÖREN  ANKARA  İç Anadolu\n",
      "25        26     KIZILCAHAMAM  ANKARA  İç Anadolu\n",
      "26        27            MAMAK  ANKARA  İç Anadolu\n",
      "27        28         NALLIHAN  ANKARA  İç Anadolu\n",
      "28        29          POLATLI  ANKARA  İç Anadolu\n",
      "29        30        PURSAKLAR  ANKARA  İç Anadolu\n",
      "30        31           SİNCAN  ANKARA  İç Anadolu\n",
      "31        32  ŞEREFLİKOÇHİSAR  ANKARA  İç Anadolu\n",
      "32        33      YENİMAHALLE  ANKARA  İç Anadolu\n"
     ]
    }
   ],
   "source": [
    "import pandas as pd\n",
    "\n",
    "\n",
    "def il(bolge, *a):\n",
    "    bulunanlar = bolge[bolge['İl'].isin(a) | bolge['İlçe'].isin(a)]\n",
    "    \n",
    "    if bulunanlar.empty:\n",
    "        print(\"Girilen il/ilçeler veri setinde bulunamadı.\")\n",
    "    else:\n",
    "        print(\"Aranan İl/İlçe Raporu:\")\n",
    "        print(bulunanlar)\n",
    "\n",
    "def doruk():\n",
    "        bolge = pd.read_excel(\"bölgeler.xlsx\")\n",
    "        ilce = input(\"Lütfen aranacak il/ilçe(ler)i virgülle ayırarak girin: \").split(\",\")\n",
    "        il(bolge, *ilce)\n",
    "\n",
    "doruk()\n"
   ]
  },
  {
   "cell_type": "code",
   "execution_count": null,
   "id": "52e58354-da72-4e67-9f4c-2c5cae0686c7",
   "metadata": {},
   "outputs": [],
   "source": []
  }
 ],
 "metadata": {
  "kernelspec": {
   "display_name": "Python 3 (ipykernel)",
   "language": "python",
   "name": "python3"
  },
  "language_info": {
   "codemirror_mode": {
    "name": "ipython",
    "version": 3
   },
   "file_extension": ".py",
   "mimetype": "text/x-python",
   "name": "python",
   "nbconvert_exporter": "python",
   "pygments_lexer": "ipython3",
   "version": "3.11.7"
  }
 },
 "nbformat": 4,
 "nbformat_minor": 5
}
