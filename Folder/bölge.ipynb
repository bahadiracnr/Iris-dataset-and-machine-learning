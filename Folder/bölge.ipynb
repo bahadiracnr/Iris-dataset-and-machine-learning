{
 "cells": [
  {
   "cell_type": "code",
   "execution_count": 8,
   "id": "b15c5c03-a3a7-4535-b725-3c46cd421043",
   "metadata": {},
   "outputs": [
    {
     "name": "stdout",
     "output_type": "stream",
     "text": [
      "Araştırma Bölgesi Veri Kümesi Raporu:\n",
      "     Yer Kodu      İlçe         İl       Bölge Adı\n",
      "0           1      ENEZ     EDİRNE          Trakya\n",
      "1           2     HAVSA     EDİRNE          Trakya\n",
      "2           3    İPSALA     EDİRNE          Trakya\n",
      "3           4     KEŞAN     EDİRNE          Trakya\n",
      "4           5  LALAPAŞA     EDİRNE          Trakya\n",
      "..        ...       ...        ...             ...\n",
      "115       116    DEVREK  ZONGULDAK  Batı Karadeniz\n",
      "116       117    EREĞLİ  ZONGULDAK  Batı Karadeniz\n",
      "117       118  GÖKÇEBEY  ZONGULDAK  Batı Karadeniz\n",
      "118       119   KİLİMLİ  ZONGULDAK  Batı Karadeniz\n",
      "119       120     KOZLU  ZONGULDAK  Batı Karadeniz\n",
      "\n",
      "[120 rows x 4 columns]\n",
      "Satır 1: Yer Kodu: 1, İlçe: ENEZ, İl: EDİRNE, Bölge Adı: Trakya\n",
      "Satır 2: Yer Kodu: 2, İlçe: HAVSA, İl: EDİRNE, Bölge Adı: Trakya\n",
      "Satır 3: Yer Kodu: 3, İlçe: İPSALA, İl: EDİRNE, Bölge Adı: Trakya\n",
      "Satır 4: Yer Kodu: 4, İlçe: KEŞAN, İl: EDİRNE, Bölge Adı: Trakya\n"
     ]
    }
   ],
   "source": [
    "import pandas as pd\n",
    "\n",
    "def bolge():\n",
    "    arastirma_bolgesi_veri = pd.read_excel(\"bölgeler.xlsx\")\n",
    "    print(\"Araştırma Bölgesi Veri Kümesi Raporu:\")\n",
    "    print(arastirma_bolgesi_veri)\n",
    "    return arastirma_bolgesi_veri\n",
    "\n",
    "\n",
    "def deneme():\n",
    "    iris_data = bolge()  \n",
    "    \n",
    "    for i in range(4):\n",
    "        print(f\"Satır {i + 1}: Yer Kodu: {iris_data.at[i, 'Yer Kodu']}, İlçe: {iris_data.at[i, 'İlçe']}, İl: {iris_data.at[i, 'İl']}, Bölge Adı: {iris_data.at[i, 'Bölge Adı']}\")\n",
    "\n",
    "deneme()\n"
   ]
  },
  {
   "cell_type": "code",
   "execution_count": null,
   "id": "4caea9ee-37c6-4143-8567-ad2ca323e5e4",
   "metadata": {},
   "outputs": [],
   "source": []
  }
 ],
 "metadata": {
  "kernelspec": {
   "display_name": "Python 3 (ipykernel)",
   "language": "python",
   "name": "python3"
  },
  "language_info": {
   "codemirror_mode": {
    "name": "ipython",
    "version": 3
   },
   "file_extension": ".py",
   "mimetype": "text/x-python",
   "name": "python",
   "nbconvert_exporter": "python",
   "pygments_lexer": "ipython3",
   "version": "3.11.7"
  }
 },
 "nbformat": 4,
 "nbformat_minor": 5
}
